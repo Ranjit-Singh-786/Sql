{
 "cells": [
  {
   "cell_type": "code",
   "execution_count": 59,
   "id": "57551bd6",
   "metadata": {},
   "outputs": [
    {
     "name": "stderr",
     "output_type": "stream",
     "text": [
      "C:\\Users\\Ranjit Singh\\AppData\\Local\\Programs\\Python\\Python310\\lib\\site-packages\\pandas\\io\\sql.py:761: UserWarning: pandas only support SQLAlchemy connectable(engine/connection) ordatabase string URI or sqlite3 DBAPI2 connectionother DBAPI2 objects are not tested, please consider using SQLAlchemy\n",
      "  warnings.warn(\n"
     ]
    },
    {
     "data": {
      "text/html": [
       "<div>\n",
       "<style scoped>\n",
       "    .dataframe tbody tr th:only-of-type {\n",
       "        vertical-align: middle;\n",
       "    }\n",
       "\n",
       "    .dataframe tbody tr th {\n",
       "        vertical-align: top;\n",
       "    }\n",
       "\n",
       "    .dataframe thead th {\n",
       "        text-align: right;\n",
       "    }\n",
       "</style>\n",
       "<table border=\"1\" class=\"dataframe\">\n",
       "  <thead>\n",
       "    <tr style=\"text-align: right;\">\n",
       "      <th></th>\n",
       "      <th>stuid</th>\n",
       "      <th>name</th>\n",
       "      <th>roll</th>\n",
       "      <th>age</th>\n",
       "      <th>city</th>\n",
       "    </tr>\n",
       "  </thead>\n",
       "  <tbody>\n",
       "    <tr>\n",
       "      <th>0</th>\n",
       "      <td>1</td>\n",
       "      <td>Ranjit Singh</td>\n",
       "      <td>68</td>\n",
       "      <td>25</td>\n",
       "      <td>Hathras</td>\n",
       "    </tr>\n",
       "    <tr>\n",
       "      <th>1</th>\n",
       "      <td>2</td>\n",
       "      <td>sudhanshu</td>\n",
       "      <td>100</td>\n",
       "      <td>45</td>\n",
       "      <td>bangluru</td>\n",
       "    </tr>\n",
       "    <tr>\n",
       "      <th>2</th>\n",
       "      <td>3</td>\n",
       "      <td>Usman</td>\n",
       "      <td>58</td>\n",
       "      <td>26</td>\n",
       "      <td>bangluru</td>\n",
       "    </tr>\n",
       "    <tr>\n",
       "      <th>3</th>\n",
       "      <td>4</td>\n",
       "      <td>praveen</td>\n",
       "      <td>67</td>\n",
       "      <td>21</td>\n",
       "      <td>prayagraj</td>\n",
       "    </tr>\n",
       "    <tr>\n",
       "      <th>4</th>\n",
       "      <td>7</td>\n",
       "      <td>sumit</td>\n",
       "      <td>69</td>\n",
       "      <td>28</td>\n",
       "      <td>chhapra</td>\n",
       "    </tr>\n",
       "    <tr>\n",
       "      <th>5</th>\n",
       "      <td>8</td>\n",
       "      <td>shivam</td>\n",
       "      <td>64</td>\n",
       "      <td>22</td>\n",
       "      <td>firojabad</td>\n",
       "    </tr>\n",
       "    <tr>\n",
       "      <th>6</th>\n",
       "      <td>9</td>\n",
       "      <td>padmesh</td>\n",
       "      <td>70</td>\n",
       "      <td>26</td>\n",
       "      <td>hyderabad</td>\n",
       "    </tr>\n",
       "    <tr>\n",
       "      <th>7</th>\n",
       "      <td>10</td>\n",
       "      <td>aman</td>\n",
       "      <td>19</td>\n",
       "      <td>20</td>\n",
       "      <td>devariya</td>\n",
       "    </tr>\n",
       "    <tr>\n",
       "      <th>8</th>\n",
       "      <td>11</td>\n",
       "      <td>ishita gupta</td>\n",
       "      <td>24</td>\n",
       "      <td>20</td>\n",
       "      <td>agra</td>\n",
       "    </tr>\n",
       "    <tr>\n",
       "      <th>9</th>\n",
       "      <td>12</td>\n",
       "      <td>Nitin</td>\n",
       "      <td>25</td>\n",
       "      <td>24</td>\n",
       "      <td>aligarh</td>\n",
       "    </tr>\n",
       "    <tr>\n",
       "      <th>10</th>\n",
       "      <td>13</td>\n",
       "      <td>Riya dixit</td>\n",
       "      <td>29</td>\n",
       "      <td>21</td>\n",
       "      <td>hathras</td>\n",
       "    </tr>\n",
       "    <tr>\n",
       "      <th>11</th>\n",
       "      <td>14</td>\n",
       "      <td>mayur varma</td>\n",
       "      <td>43</td>\n",
       "      <td>21</td>\n",
       "      <td>mathura</td>\n",
       "    </tr>\n",
       "    <tr>\n",
       "      <th>12</th>\n",
       "      <td>15</td>\n",
       "      <td>prashant sharma</td>\n",
       "      <td>21</td>\n",
       "      <td>27</td>\n",
       "      <td>aligarh</td>\n",
       "    </tr>\n",
       "    <tr>\n",
       "      <th>13</th>\n",
       "      <td>16</td>\n",
       "      <td>pankaj</td>\n",
       "      <td>41</td>\n",
       "      <td>42</td>\n",
       "      <td>mummai</td>\n",
       "    </tr>\n",
       "    <tr>\n",
       "      <th>14</th>\n",
       "      <td>17</td>\n",
       "      <td>abhijeet</td>\n",
       "      <td>2</td>\n",
       "      <td>49</td>\n",
       "      <td>kolapur</td>\n",
       "    </tr>\n",
       "  </tbody>\n",
       "</table>\n",
       "</div>"
      ],
      "text/plain": [
       "    stuid             name  roll  age       city\n",
       "0       1     Ranjit Singh    68   25    Hathras\n",
       "1       2        sudhanshu   100   45   bangluru\n",
       "2       3            Usman    58   26   bangluru\n",
       "3       4          praveen    67   21  prayagraj\n",
       "4       7            sumit    69   28    chhapra\n",
       "5       8           shivam    64   22  firojabad\n",
       "6       9          padmesh    70   26  hyderabad\n",
       "7      10             aman    19   20   devariya\n",
       "8      11     ishita gupta    24   20       agra\n",
       "9      12            Nitin    25   24    aligarh\n",
       "10     13       Riya dixit    29   21    hathras\n",
       "11     14      mayur varma    43   21    mathura\n",
       "12     15  prashant sharma    21   27    aligarh\n",
       "13     16           pankaj    41   42     mummai\n",
       "14     17         abhijeet     2   49    kolapur"
      ]
     },
     "execution_count": 59,
     "metadata": {},
     "output_type": "execute_result"
    }
   ],
   "source": [
    "df = pd.read_sql_query('select * from ineuronstudent',conn)\n",
    "df       "
   ]
  },
  {
   "cell_type": "code",
   "execution_count": 28,
   "id": "03c413e6",
   "metadata": {},
   "outputs": [],
   "source": [
    "import mysql.connector as mc\n",
    "import pandas as pd"
   ]
  },
  {
   "cell_type": "code",
   "execution_count": 8,
   "id": "46fb6552",
   "metadata": {},
   "outputs": [],
   "source": [
    "conn = mc.connect(user='root',password ='Jigar@975919',host='localhost',port =3306)"
   ]
  },
  {
   "cell_type": "code",
   "execution_count": 9,
   "id": "4ad40031",
   "metadata": {},
   "outputs": [
    {
     "data": {
      "text/plain": [
       "True"
      ]
     },
     "execution_count": 9,
     "metadata": {},
     "output_type": "execute_result"
    }
   ],
   "source": [
    "conn.is_connected()"
   ]
  },
  {
   "cell_type": "code",
   "execution_count": 10,
   "id": "3479e4a5",
   "metadata": {},
   "outputs": [],
   "source": [
    "cur = conn.cursor()"
   ]
  },
  {
   "cell_type": "code",
   "execution_count": 11,
   "id": "4e2952d6",
   "metadata": {},
   "outputs": [
    {
     "name": "stdout",
     "output_type": "stream",
     "text": [
      "('first_schema',)\n",
      "('ineuron',)\n",
      "('information_schema',)\n",
      "('mysql',)\n",
      "('performance_schema',)\n",
      "('sakila',)\n",
      "('sys',)\n",
      "('taskdb',)\n",
      "('world',)\n"
     ]
    }
   ],
   "source": [
    "cur.execute('show databases')\n",
    "for i in cur.fetchall():\n",
    "    print(i)"
   ]
  },
  {
   "cell_type": "markdown",
   "id": "d1be784e",
   "metadata": {},
   "source": [
    "## again established th3 connection with the databases"
   ]
  },
  {
   "cell_type": "code",
   "execution_count": 51,
   "id": "44010854",
   "metadata": {},
   "outputs": [],
   "source": [
    "conn = mc.connect(user='root',password ='Jigar@975919',host='localhost',port =3306,database = 'ineuron')"
   ]
  },
  {
   "cell_type": "code",
   "execution_count": 52,
   "id": "acf3459c",
   "metadata": {},
   "outputs": [
    {
     "data": {
      "text/plain": [
       "True"
      ]
     },
     "execution_count": 52,
     "metadata": {},
     "output_type": "execute_result"
    }
   ],
   "source": [
    "conn.is_connected()"
   ]
  },
  {
   "cell_type": "code",
   "execution_count": 53,
   "id": "01e39013",
   "metadata": {},
   "outputs": [],
   "source": [
    "cur = conn.cursor()"
   ]
  },
  {
   "cell_type": "code",
   "execution_count": 54,
   "id": "c55af9d4",
   "metadata": {},
   "outputs": [],
   "source": [
    "cur.execute('show tables')\n",
    "\n",
    "\n",
    "# singl3 table exist there"
   ]
  },
  {
   "cell_type": "code",
   "execution_count": 48,
   "id": "a72ea0de",
   "metadata": {},
   "outputs": [
    {
     "data": {
      "text/plain": [
       "('ineuro',)"
      ]
     },
     "execution_count": 48,
     "metadata": {},
     "output_type": "execute_result"
    }
   ],
   "source": [
    "cur.fetchone()"
   ]
  },
  {
   "cell_type": "code",
   "execution_count": 27,
   "id": "0472323c",
   "metadata": {},
   "outputs": [
    {
     "name": "stdout",
     "output_type": "stream",
     "text": [
      "(1, 'Ranjit Singh', 68, 25, 'Hathras')\n",
      "(2, 'sudhanshu', 100, 45, 'bangluru')\n",
      "(3, 'Usman', 58, 26, 'bangluru')\n",
      "(4, 'praveen', 67, 21, 'prayagraj')\n",
      "(7, 'sumit', 69, 28, 'chhapra')\n",
      "(8, 'shivam', 64, 22, 'firojabad')\n",
      "(9, 'padmesh', 70, 26, 'hyderabad')\n",
      "(10, 'aman', 19, 20, 'devariya')\n",
      "(11, 'ishita gupta', 24, 20, 'agra')\n",
      "(12, 'Nitin', 25, 24, 'aligarh')\n",
      "(13, 'Riya dixit', 29, 21, 'hathras')\n",
      "(14, 'mayur varma', 43, 21, 'mathura')\n",
      "(15, 'prashant sharma', 21, 27, 'aligarh')\n",
      "(16, 'pankaj', 41, 42, 'mummai')\n",
      "(17, 'abhijeet', 2, 49, 'kolapur')\n"
     ]
    }
   ],
   "source": [
    "cur.execute('select * from ineuronstudent')\n",
    "for i in cur.fetchall():\n",
    "    print(i)"
   ]
  },
  {
   "cell_type": "markdown",
   "id": "75499334",
   "metadata": {},
   "source": [
    "## by using pandas"
   ]
  },
  {
   "cell_type": "code",
   "execution_count": 29,
   "id": "37fa6a4c",
   "metadata": {},
   "outputs": [
    {
     "name": "stderr",
     "output_type": "stream",
     "text": [
      "C:\\Users\\Ranjit Singh\\AppData\\Local\\Programs\\Python\\Python310\\lib\\site-packages\\pandas\\io\\sql.py:761: UserWarning: pandas only support SQLAlchemy connectable(engine/connection) ordatabase string URI or sqlite3 DBAPI2 connectionother DBAPI2 objects are not tested, please consider using SQLAlchemy\n",
      "  warnings.warn(\n"
     ]
    },
    {
     "data": {
      "text/html": [
       "<div>\n",
       "<style scoped>\n",
       "    .dataframe tbody tr th:only-of-type {\n",
       "        vertical-align: middle;\n",
       "    }\n",
       "\n",
       "    .dataframe tbody tr th {\n",
       "        vertical-align: top;\n",
       "    }\n",
       "\n",
       "    .dataframe thead th {\n",
       "        text-align: right;\n",
       "    }\n",
       "</style>\n",
       "<table border=\"1\" class=\"dataframe\">\n",
       "  <thead>\n",
       "    <tr style=\"text-align: right;\">\n",
       "      <th></th>\n",
       "      <th>stuid</th>\n",
       "      <th>name</th>\n",
       "      <th>roll</th>\n",
       "      <th>age</th>\n",
       "      <th>city</th>\n",
       "    </tr>\n",
       "  </thead>\n",
       "  <tbody>\n",
       "    <tr>\n",
       "      <th>0</th>\n",
       "      <td>1</td>\n",
       "      <td>Ranjit Singh</td>\n",
       "      <td>68</td>\n",
       "      <td>25</td>\n",
       "      <td>Hathras</td>\n",
       "    </tr>\n",
       "    <tr>\n",
       "      <th>1</th>\n",
       "      <td>2</td>\n",
       "      <td>sudhanshu</td>\n",
       "      <td>100</td>\n",
       "      <td>45</td>\n",
       "      <td>bangluru</td>\n",
       "    </tr>\n",
       "    <tr>\n",
       "      <th>2</th>\n",
       "      <td>3</td>\n",
       "      <td>Usman</td>\n",
       "      <td>58</td>\n",
       "      <td>26</td>\n",
       "      <td>bangluru</td>\n",
       "    </tr>\n",
       "    <tr>\n",
       "      <th>3</th>\n",
       "      <td>4</td>\n",
       "      <td>praveen</td>\n",
       "      <td>67</td>\n",
       "      <td>21</td>\n",
       "      <td>prayagraj</td>\n",
       "    </tr>\n",
       "    <tr>\n",
       "      <th>4</th>\n",
       "      <td>7</td>\n",
       "      <td>sumit</td>\n",
       "      <td>69</td>\n",
       "      <td>28</td>\n",
       "      <td>chhapra</td>\n",
       "    </tr>\n",
       "    <tr>\n",
       "      <th>5</th>\n",
       "      <td>8</td>\n",
       "      <td>shivam</td>\n",
       "      <td>64</td>\n",
       "      <td>22</td>\n",
       "      <td>firojabad</td>\n",
       "    </tr>\n",
       "    <tr>\n",
       "      <th>6</th>\n",
       "      <td>9</td>\n",
       "      <td>padmesh</td>\n",
       "      <td>70</td>\n",
       "      <td>26</td>\n",
       "      <td>hyderabad</td>\n",
       "    </tr>\n",
       "    <tr>\n",
       "      <th>7</th>\n",
       "      <td>10</td>\n",
       "      <td>aman</td>\n",
       "      <td>19</td>\n",
       "      <td>20</td>\n",
       "      <td>devariya</td>\n",
       "    </tr>\n",
       "    <tr>\n",
       "      <th>8</th>\n",
       "      <td>11</td>\n",
       "      <td>ishita gupta</td>\n",
       "      <td>24</td>\n",
       "      <td>20</td>\n",
       "      <td>agra</td>\n",
       "    </tr>\n",
       "    <tr>\n",
       "      <th>9</th>\n",
       "      <td>12</td>\n",
       "      <td>Nitin</td>\n",
       "      <td>25</td>\n",
       "      <td>24</td>\n",
       "      <td>aligarh</td>\n",
       "    </tr>\n",
       "    <tr>\n",
       "      <th>10</th>\n",
       "      <td>13</td>\n",
       "      <td>Riya dixit</td>\n",
       "      <td>29</td>\n",
       "      <td>21</td>\n",
       "      <td>hathras</td>\n",
       "    </tr>\n",
       "    <tr>\n",
       "      <th>11</th>\n",
       "      <td>14</td>\n",
       "      <td>mayur varma</td>\n",
       "      <td>43</td>\n",
       "      <td>21</td>\n",
       "      <td>mathura</td>\n",
       "    </tr>\n",
       "    <tr>\n",
       "      <th>12</th>\n",
       "      <td>15</td>\n",
       "      <td>prashant sharma</td>\n",
       "      <td>21</td>\n",
       "      <td>27</td>\n",
       "      <td>aligarh</td>\n",
       "    </tr>\n",
       "    <tr>\n",
       "      <th>13</th>\n",
       "      <td>16</td>\n",
       "      <td>pankaj</td>\n",
       "      <td>41</td>\n",
       "      <td>42</td>\n",
       "      <td>mummai</td>\n",
       "    </tr>\n",
       "    <tr>\n",
       "      <th>14</th>\n",
       "      <td>17</td>\n",
       "      <td>abhijeet</td>\n",
       "      <td>2</td>\n",
       "      <td>49</td>\n",
       "      <td>kolapur</td>\n",
       "    </tr>\n",
       "  </tbody>\n",
       "</table>\n",
       "</div>"
      ],
      "text/plain": [
       "    stuid             name  roll  age       city\n",
       "0       1     Ranjit Singh    68   25    Hathras\n",
       "1       2        sudhanshu   100   45   bangluru\n",
       "2       3            Usman    58   26   bangluru\n",
       "3       4          praveen    67   21  prayagraj\n",
       "4       7            sumit    69   28    chhapra\n",
       "5       8           shivam    64   22  firojabad\n",
       "6       9          padmesh    70   26  hyderabad\n",
       "7      10             aman    19   20   devariya\n",
       "8      11     ishita gupta    24   20       agra\n",
       "9      12            Nitin    25   24    aligarh\n",
       "10     13       Riya dixit    29   21    hathras\n",
       "11     14      mayur varma    43   21    mathura\n",
       "12     15  prashant sharma    21   27    aligarh\n",
       "13     16           pankaj    41   42     mummai\n",
       "14     17         abhijeet     2   49    kolapur"
      ]
     },
     "execution_count": 29,
     "metadata": {},
     "output_type": "execute_result"
    }
   ],
   "source": [
    "df = pd.read_sql_query('select * from ineuronstudent',conn)\n",
    "df\n",
    "# by using this function you can easily import the data from the database"
   ]
  },
  {
   "cell_type": "code",
   "execution_count": 31,
   "id": "3b9e5267",
   "metadata": {},
   "outputs": [],
   "source": [
    "cur.execute('CREATE table ineuro(stuid INT ,name varchar(30),roll int,age int ,city varchar(30))')"
   ]
  },
  {
   "cell_type": "code",
   "execution_count": 49,
   "id": "f0de10c4",
   "metadata": {},
   "outputs": [
    {
     "data": {
      "text/plain": [
       "('ineuronstudent',)"
      ]
     },
     "execution_count": 49,
     "metadata": {},
     "output_type": "execute_result"
    }
   ],
   "source": [
    "cur.fetchone()"
   ]
  },
  {
   "cell_type": "code",
   "execution_count": 55,
   "id": "15f73d93",
   "metadata": {},
   "outputs": [
    {
     "data": {
      "text/plain": [
       "('ineuro',)"
      ]
     },
     "execution_count": 55,
     "metadata": {},
     "output_type": "execute_result"
    }
   ],
   "source": [
    "cur.fetchone()"
   ]
  },
  {
   "cell_type": "code",
   "execution_count": 58,
   "id": "02abcecd",
   "metadata": {},
   "outputs": [
    {
     "data": {
      "text/plain": [
       "('ineuronstudent',)"
      ]
     },
     "execution_count": 58,
     "metadata": {},
     "output_type": "execute_result"
    }
   ],
   "source": [
    "cur.fetchone()"
   ]
  },
  {
   "cell_type": "code",
   "execution_count": null,
   "id": "3d0c9fdd",
   "metadata": {},
   "outputs": [],
   "source": []
  }
 ],
 "metadata": {
  "kernelspec": {
   "display_name": "Python 3 (ipykernel)",
   "language": "python",
   "name": "python3"
  },
  "language_info": {
   "codemirror_mode": {
    "name": "ipython",
    "version": 3
   },
   "file_extension": ".py",
   "mimetype": "text/x-python",
   "name": "python",
   "nbconvert_exporter": "python",
   "pygments_lexer": "ipython3",
   "version": "3.10.6"
  }
 },
 "nbformat": 4,
 "nbformat_minor": 5
}
